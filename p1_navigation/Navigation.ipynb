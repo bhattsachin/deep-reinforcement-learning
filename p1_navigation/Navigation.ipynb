{
 "cells": [
  {
   "cell_type": "markdown",
   "metadata": {},
   "source": [
    "# Navigation\n",
    "\n",
    "---\n",
    "\n",
    "In this notebook, you will learn how to use the Unity ML-Agents environment for the first project of the [Deep Reinforcement Learning Nanodegree](https://www.udacity.com/course/deep-reinforcement-learning-nanodegree--nd893).\n",
    "\n",
    "### 1. Start the Environment\n",
    "\n",
    "We begin by importing some necessary packages.  If the code cell below returns an error, please revisit the project instructions to double-check that you have installed [Unity ML-Agents](https://github.com/Unity-Technologies/ml-agents/blob/master/docs/Installation.md) and [NumPy](http://www.numpy.org/)."
   ]
  },
  {
   "cell_type": "code",
   "execution_count": 1,
   "metadata": {},
   "outputs": [],
   "source": [
    "from unityagents import UnityEnvironment\n",
    "import numpy as np\n",
    "from IPython.core.debugger import set_trace"
   ]
  },
  {
   "cell_type": "markdown",
   "metadata": {},
   "source": [
    "Next, we will start the environment!  **_Before running the code cell below_**, change the `file_name` parameter to match the location of the Unity environment that you downloaded.\n",
    "\n",
    "- **Mac**: `\"path/to/Banana.app\"`\n",
    "- **Windows** (x86): `\"path/to/Banana_Windows_x86/Banana.exe\"`\n",
    "- **Windows** (x86_64): `\"path/to/Banana_Windows_x86_64/Banana.exe\"`\n",
    "- **Linux** (x86): `\"path/to/Banana_Linux/Banana.x86\"`\n",
    "- **Linux** (x86_64): `\"path/to/Banana_Linux/Banana.x86_64\"`\n",
    "- **Linux** (x86, headless): `\"path/to/Banana_Linux_NoVis/Banana.x86\"`\n",
    "- **Linux** (x86_64, headless): `\"path/to/Banana_Linux_NoVis/Banana.x86_64\"`\n",
    "\n",
    "For instance, if you are using a Mac, then you downloaded `Banana.app`.  If this file is in the same folder as the notebook, then the line below should appear as follows:\n",
    "```\n",
    "env = UnityEnvironment(file_name=\"Banana.app\")\n",
    "```"
   ]
  },
  {
   "cell_type": "code",
   "execution_count": 2,
   "metadata": {},
   "outputs": [
    {
     "name": "stderr",
     "output_type": "stream",
     "text": [
      "INFO:unityagents:\n",
      "'Academy' started successfully!\n",
      "Unity Academy name: Academy\n",
      "        Number of Brains: 1\n",
      "        Number of External Brains : 1\n",
      "        Lesson number : 0\n",
      "        Reset Parameters :\n",
      "\t\t\n",
      "Unity brain name: BananaBrain\n",
      "        Number of Visual Observations (per agent): 0\n",
      "        Vector Observation space type: continuous\n",
      "        Vector Observation space size (per agent): 37\n",
      "        Number of stacked Vector Observation: 1\n",
      "        Vector Action space type: discrete\n",
      "        Vector Action space size (per agent): 4\n",
      "        Vector Action descriptions: , , , \n"
     ]
    }
   ],
   "source": [
    "env = UnityEnvironment(file_name=\"Banana_Linux/Banana.x86\")"
   ]
  },
  {
   "cell_type": "markdown",
   "metadata": {},
   "source": [
    "Environments contain **_brains_** which are responsible for deciding the actions of their associated agents. Here we check for the first brain available, and set it as the default brain we will be controlling from Python."
   ]
  },
  {
   "cell_type": "code",
   "execution_count": 3,
   "metadata": {},
   "outputs": [
    {
     "name": "stdout",
     "output_type": "stream",
     "text": [
      "BananaBrain\n"
     ]
    }
   ],
   "source": [
    "# get the default brain\n",
    "brain_name = env.brain_names[0]\n",
    "brain = env.brains[brain_name]\n",
    "print(brain_name)"
   ]
  },
  {
   "cell_type": "markdown",
   "metadata": {},
   "source": [
    "### 2. Examine the State and Action Spaces\n",
    "\n",
    "The simulation contains a single agent that navigates a large environment.  At each time step, it has four actions at its disposal:\n",
    "- `0` - walk forward \n",
    "- `1` - walk backward\n",
    "- `2` - turn left\n",
    "- `3` - turn right\n",
    "\n",
    "The state space has `37` dimensions and contains the agent's velocity, along with ray-based perception of objects around agent's forward direction.  A reward of `+1` is provided for collecting a yellow banana, and a reward of `-1` is provided for collecting a blue banana. \n",
    "\n",
    "Run the code cell below to print some information about the environment."
   ]
  },
  {
   "cell_type": "code",
   "execution_count": 4,
   "metadata": {},
   "outputs": [
    {
     "name": "stdout",
     "output_type": "stream",
     "text": [
      "Number of agents: 1\n",
      "Number of actions: 4\n",
      "States look like: [1.         0.         0.         0.         0.84408134 0.\n",
      " 0.         1.         0.         0.0748472  0.         1.\n",
      " 0.         0.         0.25755    1.         0.         0.\n",
      " 0.         0.74177343 0.         1.         0.         0.\n",
      " 0.25854847 0.         0.         1.         0.         0.09355672\n",
      " 0.         1.         0.         0.         0.31969345 0.\n",
      " 0.        ]\n",
      "States have length: 37\n"
     ]
    }
   ],
   "source": [
    "# reset the environment\n",
    "env_info = env.reset(train_mode=True)[brain_name]\n",
    "\n",
    "# number of agents in the environment\n",
    "print('Number of agents:', len(env_info.agents))\n",
    "\n",
    "# number of actions\n",
    "action_size = brain.vector_action_space_size\n",
    "print('Number of actions:', action_size)\n",
    "\n",
    "# examine the state space \n",
    "state = env_info.vector_observations[0]\n",
    "print('States look like:', state)\n",
    "state_size = len(state)\n",
    "print('States have length:', state_size)"
   ]
  },
  {
   "cell_type": "markdown",
   "metadata": {},
   "source": [
    "### 3. Take Random Actions in the Environment\n",
    "\n",
    "In the next code cell, you will learn how to use the Python API to control the agent and receive feedback from the environment.\n",
    "\n",
    "Once this cell is executed, you will watch the agent's performance, if it selects an action (uniformly) at random with each time step.  A window should pop up that allows you to observe the agent, as it moves through the environment.  \n",
    "\n",
    "Of course, as part of the project, you'll have to change the code so that the agent is able to use its experience to gradually choose better actions when interacting with the environment!"
   ]
  },
  {
   "cell_type": "code",
   "execution_count": 5,
   "metadata": {},
   "outputs": [
    {
     "name": "stdout",
     "output_type": "stream",
     "text": [
      "Score: 0\n"
     ]
    }
   ],
   "source": [
    "env_info = env.reset(train_mode=False)[brain_name] # reset the environment\n",
    "state = env_info.vector_observations[0]            # get the current state\n",
    "score = 0                                          # initialize the score\n",
    "\n",
    "while False:\n",
    "    action = np.random.randint(action_size)        # select an action\n",
    "    env_info = env.step(action)[brain_name]        # send the action to the environment\n",
    "    next_state = env_info.vector_observations[0]   # get the next state\n",
    "    reward = env_info.rewards[0]                   # get the reward\n",
    "    done = env_info.local_done[0]                  # see if episode has finished\n",
    "    print('action:{}, reward:{}, done:{}'.format(action, score, done))\n",
    "    score += reward                                # update the score\n",
    "    state = next_state                             # roll over the state to next time step\n",
    "    if done:                                       # exit loop if episode finished\n",
    "        break\n",
    "    \n",
    "print(\"Score: {}\".format(score))"
   ]
  },
  {
   "cell_type": "markdown",
   "metadata": {},
   "source": [
    "When finished, you can close the environment."
   ]
  },
  {
   "cell_type": "code",
   "execution_count": 6,
   "metadata": {},
   "outputs": [],
   "source": [
    "#env.close()"
   ]
  },
  {
   "cell_type": "markdown",
   "metadata": {},
   "source": [
    "### 4. Train the Agent with DQN!\n",
    "\n",
    "Now it's your turn to train your own agent to solve the environment!  When training the environment, set `train_mode=True`, so that the line for resetting the environment looks like the following:\n",
    "```python\n",
    "env_info = env.reset(train_mode=True)[brain_name]\n",
    "```"
   ]
  },
  {
   "cell_type": "code",
   "execution_count": null,
   "metadata": {},
   "outputs": [
    {
     "name": "stderr",
     "output_type": "stream",
     "text": [
      "INFO:unityagents:\n",
      "'Academy' started successfully!\n",
      "Unity Academy name: Academy\n",
      "        Number of Brains: 1\n",
      "        Number of External Brains : 1\n",
      "        Lesson number : 0\n",
      "        Reset Parameters :\n",
      "\t\t\n",
      "Unity brain name: BananaBrain\n",
      "        Number of Visual Observations (per agent): 0\n",
      "        Vector Observation space type: continuous\n",
      "        Vector Observation space size (per agent): 37\n",
      "        Number of stacked Vector Observation: 1\n",
      "        Vector Action space type: discrete\n",
      "        Vector Action space size (per agent): 4\n",
      "        Vector Action descriptions: , , , \n",
      "INFO:bananagent:Agent init: state:37, action:4\n"
     ]
    },
    {
     "name": "stdout",
     "output_type": "stream",
     "text": [
      "Episode 10\tAverage Score: -0.30\tdecay:0.961\n",
      "Episode 20\tAverage Score: -0.35\tdecay:0.923\n",
      "Episode 30\tAverage Score: -0.10\tdecay:0.887\n",
      "Episode 40\tAverage Score: 0.03\tdecay:0.852\n",
      "Episode 50\tAverage Score: 0.18\tdecay:0.818\n",
      "Episode 60\tAverage Score: 0.13\tdecay:0.786\n",
      "Episode 70\tAverage Score: 0.16\tdecay:0.755\n",
      "Episode 80\tAverage Score: 0.24\tdecay:0.726\n",
      "Episode 90\tAverage Score: 0.34\tdecay:0.697\n",
      "Episode 100\tAverage Score: 0.42\tdecay:0.670\n",
      "Episode 110\tAverage Score: 0.58\tdecay:0.643\n",
      "Episode 120\tAverage Score: 0.81\tdecay:0.618\n",
      "Episode 130\tAverage Score: 1.04\tdecay:0.594\n",
      "Episode 140\tAverage Score: 1.30\tdecay:0.571\n",
      "Episode 150\tAverage Score: 1.55\tdecay:0.548\n",
      "Episode 160\tAverage Score: 2.02\tdecay:0.527\n",
      "Episode 170\tAverage Score: 2.37\tdecay:0.506\n",
      "Episode 180\tAverage Score: 2.55\tdecay:0.486\n",
      "Episode 190\tAverage Score: 2.88\tdecay:0.467\n",
      "Episode 200\tAverage Score: 3.12\tdecay:0.449\n",
      "Episode 210\tAverage Score: 3.41\tdecay:0.431\n",
      "Episode 220\tAverage Score: 3.81\tdecay:0.414\n",
      "Episode 230\tAverage Score: 3.92\tdecay:0.398\n",
      "Episode 240\tAverage Score: 4.18\tdecay:0.382\n",
      "Episode 250\tAverage Score: 4.42\tdecay:0.367\n",
      "Episode 260\tAverage Score: 4.48\tdecay:0.353\n",
      "Episode 270\tAverage Score: 4.75\tdecay:0.339\n",
      "Episode 280\tAverage Score: 5.39\tdecay:0.326\n",
      "Episode 290\tAverage Score: 5.71\tdecay:0.313\n",
      "Episode 300\tAverage Score: 6.16\tdecay:0.300\n",
      "Episode 310\tAverage Score: 6.59\tdecay:0.289\n",
      "Episode 320\tAverage Score: 6.89\tdecay:0.277\n",
      "Episode 330\tAverage Score: 7.43\tdecay:0.266\n",
      "Episode 340\tAverage Score: 7.88\tdecay:0.256\n",
      "Episode 350\tAverage Score: 8.17\tdecay:0.246\n",
      "Episode 360\tAverage Score: 8.68\tdecay:0.236\n",
      "Episode 370\tAverage Score: 9.09\tdecay:0.227\n",
      "Episode 380\tAverage Score: 9.15\tdecay:0.218\n",
      "Episode 390\tAverage Score: 9.36\tdecay:0.209\n",
      "Episode 400\tAverage Score: 9.88\tdecay:0.201\n",
      "Episode 410\tAverage Score: 10.03\tdecay:0.193\n",
      "Episode 420\tAverage Score: 10.25\tdecay:0.186\n",
      "Episode 430\tAverage Score: 10.47\tdecay:0.178\n",
      "Episode 440\tAverage Score: 10.81\tdecay:0.171\n",
      "Episode 450\tAverage Score: 11.22\tdecay:0.165\n",
      "Episode 460\tAverage Score: 11.49\tdecay:0.158\n",
      "Episode 470\tAverage Score: 11.71\tdecay:0.152\n",
      "Episode 480\tAverage Score: 11.84\tdecay:0.146\n",
      "Episode 490\tAverage Score: 12.03\tdecay:0.140\n",
      "Episode 500\tAverage Score: 11.92\tdecay:0.135\n",
      "Episode 510\tAverage Score: 12.09\tdecay:0.129\n",
      "Episode 520\tAverage Score: 12.54\tdecay:0.124\n",
      "Episode 530\tAverage Score: 12.43\tdecay:0.120\n",
      "Episode 540\tAverage Score: 12.36\tdecay:0.115\n",
      "Episode 550\tAverage Score: 12.49\tdecay:0.110\n",
      "Episode 560\tAverage Score: 12.48\tdecay:0.106\n",
      "Episode 570\tAverage Score: 12.69\tdecay:0.102\n",
      "Episode 580\tAverage Score: 12.89\tdecay:0.098\n",
      "Episode 590\tAverage Score: 13.06\tdecay:0.094\n",
      "Episode 600\tAverage Score: 13.25\tdecay:0.090\n",
      "Episode 610\tAverage Score: 13.46\tdecay:0.087\n",
      "Episode 620\tAverage Score: 13.35\tdecay:0.083\n",
      "Episode 630\tAverage Score: 13.63\tdecay:0.080\n",
      "Episode 640\tAverage Score: 13.69\tdecay:0.077\n",
      "Episode 650\tAverage Score: 13.57\tdecay:0.074\n"
     ]
    }
   ],
   "source": [
    "import start\n",
    "\n",
    "scores = start.run()"
   ]
  },
  {
   "cell_type": "code",
   "execution_count": 2,
   "metadata": {},
   "outputs": [
    {
     "data": {
      "image/png": "[encoded data removed]",
      "text/plain": [
       "<Figure size 432x288 with 1 Axes>"
      ]
     },
     "metadata": {
      "needs_background": "light"
     },
     "output_type": "display_data"
    }
   ],
   "source": [
    "import matplotlib.pyplot as plt\n",
    "import numpy as np\n",
    "%matplotlib inline\n",
    "\n",
    "fig = plt.figure()\n",
    "ax = fig.add_subplot(111)\n",
    "plt.plot(np.arange(len(scores)), scores)\n",
    "plt.ylabel('Score')\n",
    "plt.xlabel('Episode #')\n",
    "plt.show()\n",
    "\n"
   ]
  },
  {
   "cell_type": "code",
   "execution_count": 6,
   "metadata": {},
   "outputs": [
    {
     "data": {
      "image/png": "[encoded data removed]",
      "text/plain": [
       "<Figure size 432x288 with 1 Axes>"
      ]
     },
     "metadata": {
      "needs_background": "light"
     },
     "output_type": "display_data"
    }
   ],
   "source": [
    "import matplotlib.pyplot as plt\n",
    "import numpy as np\n",
    "\n",
    "eps_array = []\n",
    "eps = 1.0\n",
    "eps_decay = 0.997\n",
    "for i in range(1000):\n",
    "    eps = max(0.01, eps_decay*eps)\n",
    "    eps_array.append(eps)\n",
    "    \n",
    "\n",
    "plt.plot(np.arange(len(eps_array)), eps_array)\n",
    "plt.show()"
   ]
  },
  {
   "cell_type": "code",
   "execution_count": 25,
   "metadata": {},
   "outputs": [
    {
     "data": {
      "image/png": "[encoded data removed]",
      "text/plain": [
       "<Figure size 432x288 with 1 Axes>"
      ]
     },
     "metadata": {
      "needs_background": "light"
     },
     "output_type": "display_data"
    }
   ],
   "source": [
    "import matplotlib.pyplot as plt\n",
    "import numpy as np\n",
    "\n",
    "eps_array = []\n",
    "eps = 1\n",
    "eps_decay = 0.999\n",
    "for i in range(2,1000):\n",
    "    eps = 200/(200+i)\n",
    "    eps_array.append(eps)\n",
    "    \n",
    "\n",
    "plt.plot(np.arange(len(eps_array)), eps_array)\n",
    "plt.show()"
   ]
  },
  {
   "cell_type": "code",
   "execution_count": null,
   "metadata": {},
   "outputs": [],
   "source": [
    "Q: How to figure if your network is overfitting? Or are DRL networks operate on overfitting?"
   ]
  }
 ],
 "metadata": {
  "kernelspec": {
   "display_name": "drlnd",
   "language": "python",
   "name": "drlnd"
  },
  "language_info": {
   "codemirror_mode": {
    "name": "ipython",
    "version": 3
   },
   "file_extension": ".py",
   "mimetype": "text/x-python",
   "name": "python",
   "nbconvert_exporter": "python",
   "pygments_lexer": "ipython3",
   "version": "3.6.5"
  }
 },
 "nbformat": 4,
 "nbformat_minor": 2
}
